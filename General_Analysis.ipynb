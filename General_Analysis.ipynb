{
  "nbformat": 4,
  "nbformat_minor": 0,
  "metadata": {
    "colab": {
      "provenance": []
    },
    "kernelspec": {
      "name": "python3",
      "display_name": "Python 3"
    },
    "language_info": {
      "name": "python"
    }
  },
  "cells": [
    {
      "cell_type": "code",
      "execution_count": null,
      "metadata": {
        "colab": {
          "base_uri": "https://localhost:8080/"
        },
        "id": "6A8i5rTsI-8F",
        "outputId": "ed4cc482-f4ae-46e9-d9d9-df6311b08712"
      },
      "outputs": [
        {
          "output_type": "stream",
          "name": "stdout",
          "text": [
            "--- Loading Data ---\n",
            "Dataset loaded successfully.\n",
            "Shape of the dataset: (54222, 25)\n",
            "\n",
            "First 5 rows of the dataset:\n",
            "          gT           sId          rId        sAcc        rAcc  TranAmount  \\\n",
            "0  N-RegDep        PN_Ret2  PN_EU_0_261       RAcc2  EUAcc0_261   131926.49   \n",
            "1  N_Reg_RC    PN_EU_1_502     operator  EUAcc1_502          A0     2054.46   \n",
            "2  N-RegDep        PN_Ret2  PN_EU_1_362       RAcc2  EUAcc1_362   182548.74   \n",
            "3  N_Reg_RC     PN_EU_1_26     operator   EUAcc1_26          A0     5507.28   \n",
            "4  N_Reg_RC     PN_EU_1_18     operator   EUAcc1_18          A0     2102.60   \n",
            "\n",
            "  TranType TranStatus    sBalbefore     sBalAfter  ...  sf4               sTD  \\\n",
            "0       Dt         SU  1.000000e+09  9.998681e+08  ...  NaN  1/6/2011 0:11:22   \n",
            "1     ArRC         SU  1.000000e+08  9.999795e+07  ...  NaN   1/6/2011 0:16:8   \n",
            "2       Dt         SU  9.998681e+08  9.996855e+08  ...  NaN  1/6/2011 0:36:47   \n",
            "3     ArRC         SU  1.000000e+08  9.999449e+07  ...  NaN  1/6/2011 0:36:59   \n",
            "4     ArRC         SU  1.000000e+08  9.999790e+07  ...  NaN   1/6/2011 1:1:26   \n",
            "\n",
            "                rTD      sAccID  ef1  ef2   NoDescription            TranTS  \\\n",
            "0  1/6/2011 0:11:22       RAcc2  NaN  NaN  Dp201161.01111  1/6/2011 0:11:22   \n",
            "1   1/6/2011 0:16:8  EUAcc1_502  NaN  NaN  Rc201161.01616   1/6/2011 0:16:8   \n",
            "2  1/6/2011 0:36:47       RAcc2  NaN  NaN  Dp201161.03636  1/6/2011 0:36:47   \n",
            "3  1/6/2011 0:36:59   EUAcc1_26  NaN  NaN  Rc201161.03636  1/6/2011 0:36:59   \n",
            "4   1/6/2011 1:1:26   EUAcc1_18  NaN  NaN    Rc201161.111   1/6/2011 1:1:26   \n",
            "\n",
            "  sType     rType  \n",
            "0   RET        EU  \n",
            "1    EU  operator  \n",
            "2   RET        EU  \n",
            "3    EU  operator  \n",
            "4    EU  operator  \n",
            "\n",
            "[5 rows x 25 columns]\n",
            "\n",
            "--- 📈 Preprocessing Steps ---\n",
            "\n",
            "--- Null Value Handling ---\n",
            "Number of null values in each column:\n",
            "sf3    54222\n",
            "sf4    54222\n",
            "ef1    54222\n",
            "ef2    54222\n",
            "dtype: int64\n",
            "\n",
            "--- Outlier Detection on TranAmount ---\n",
            "Number of outliers detected in TranAmount: 4289\n",
            "Sample of detected outliers:\n",
            "            gT           sId          rId        sAcc        rAcc  TranAmount  \\\n",
            "8   N_RegWith    PN_EU_1_131      PN_Ret6  EUAcc1_131       RAcc6   314643.58   \n",
            "10   N-RegDep        PN_Ret4  PN_EU_1_497       RAcc4  EUAcc1_497   232019.51   \n",
            "12   N-RegDep        PN_Ret5  PN_EU_0_143       RAcc5  EUAcc0_143   228085.86   \n",
            "47   N-RegDep        PN_Ret5  PN_EU_2_136       RAcc5  EUAcc2_136   275794.00   \n",
            "57   N-RegDep        PN_Ret3   PN_EU_0_15       RAcc3   EUAcc0_15   190012.85   \n",
            "\n",
            "   TranType TranStatus    sBalbefore     sBalAfter  ...  sf4  \\\n",
            "8        Wl         SU  1.000000e+08  9.968221e+07  ...  NaN   \n",
            "10       Dt         SU  1.000000e+09  9.997680e+08  ...  NaN   \n",
            "12       Dt         SU  1.000000e+09  9.997719e+08  ...  NaN   \n",
            "47       Dt         SU  9.999256e+08  9.996498e+08  ...  NaN   \n",
            "57       Dt         SU  9.997885e+08  9.995985e+08  ...  NaN   \n",
            "\n",
            "                 sTD               rTD      sAccID  ef1  ef2   NoDescription  \\\n",
            "8   1/6/2011 1:27:38  1/6/2011 1:27:38  EUAcc1_131  NaN  NaN  Wt201161.12727   \n",
            "10  1/6/2011 1:59:56  1/6/2011 1:59:56       RAcc4  NaN  NaN  Dp201161.15959   \n",
            "12    1/6/2011 2:3:3    1/6/2011 2:3:3       RAcc5  NaN  NaN    Dp201161.233   \n",
            "47  1/6/2011 6:40:20  1/6/2011 6:40:20       RAcc5  NaN  NaN  Dp201161.64040   \n",
            "57  1/6/2011 8:20:40  1/6/2011 8:20:40       RAcc3  NaN  NaN  Dp201161.82020   \n",
            "\n",
            "              TranTS sType  rType  \n",
            "8   1/6/2011 1:27:38    EU    RET  \n",
            "10  1/6/2011 1:59:56   RET     EU  \n",
            "12    1/6/2011 2:3:3   RET     EU  \n",
            "47  1/6/2011 6:40:20   RET     EU  \n",
            "57  1/6/2011 8:20:40   RET     EU  \n",
            "\n",
            "[5 rows x 25 columns]\n",
            "\n",
            "--- 🔍 Analytical Work ---\n",
            "\n",
            "--- Duplicates Analysis ---\n",
            "Number of duplicate rows found: 0\n",
            "\n",
            "--- Relative Size Factor (RSF) Analysis ---\n",
            "Number of senders with a high Relative Size Factor (RSF > 2): 33\n",
            "Senders with the highest RSF values:\n",
            "                sId  largest_amount  second_largest_amount       RSF\n",
            "272    PN_EU_0_1251         5692.42                1222.28  4.657214\n",
            "707     PN_EU_0_617        23824.30                6221.89  3.829110\n",
            "583     PN_EU_0_502         1968.88                 518.82  3.794919\n",
            "1507    PN_EU_1_445        17010.86                4767.95  3.567751\n",
            "188    PN_EU_0_1173         9045.19                2912.36  3.105794\n",
            "\n",
            "--- 🧮 Data Analysis ---\n",
            "\n",
            "--- Conformity Assessment: Balance Check ---\n",
            "Number of transactions with inconsistent balance updates: 13094\n",
            "Sample of inconsistent transactions:\n",
            "             sId   sBalbefore    sBalAfter  TranAmount  balance_diff\n",
            "7      PN_EU_2_5  100000000.0  99933140.72    66197.31      66859.28\n",
            "8    PN_EU_1_131  100000000.0  99682209.98   314643.58     317790.02\n",
            "11    PN_EU_1_91  100000000.0  99841290.87   157137.75     158709.13\n",
            "17    PN_EU_1_83  100000000.0  99923326.09    75914.76      76673.91\n",
            "23   PN_EU_2_130  100000000.0  99922189.43    77040.17      77810.57\n",
            "\n",
            "--- ⚠️ Preliminary Findings & Observations ---\n",
            "- *Outliers*: 4289 transactions were flagged as potential outliers based on their amount.\n",
            "- *Duplicates*: 0 duplicate rows were identified.\n",
            "- *High RSF*: 33 senders showed a high Relative Size Factor, indicating unusually large transactions compared to their second-largest ones.\n",
            "- *Inconsistent Balances*: 13094 transactions had inconsistencies between the transaction amount and the change in the sender's balance.\n",
            "\n",
            "These flagged entries warrant further investigation.\n"
          ]
        }
      ],
      "source": [
        "import pandas as pd\n",
        "import numpy as np\n",
        "\n",
        "# --- 1. Load the Dataset ---\n",
        "print(\"--- Loading Data ---\")\n",
        "try:\n",
        "    # Make sure 'processedData1.csv' is in the same directory as your script\n",
        "    # or provide the full path to the file.\n",
        "    df = pd.read_csv('/content/TransactionSamples.csv')\n",
        "    print(\"Dataset loaded successfully.\")\n",
        "    print(f\"Shape of the dataset: {df.shape}\")\n",
        "    print(\"\\nFirst 5 rows of the dataset:\")\n",
        "    print(df.head())\n",
        "except FileNotFoundError:\n",
        "    print(\"Error: 'processedData1.csv' not found. Please make sure the file is in the correct directory.\")\n",
        "    exit()\n",
        "\n",
        "# --- 2. Preprocessing Steps ---\n",
        "print(\"\\n--- 📈 Preprocessing Steps ---\")\n",
        "\n",
        "# Null Value Handling\n",
        "print(\"\\n--- Null Value Handling ---\")\n",
        "null_values = df.isnull().sum()\n",
        "print(\"Number of null values in each column:\")\n",
        "print(null_values[null_values > 0])\n",
        "if not null_values.any():\n",
        "    print(\"No null values found in the dataset.\")\n",
        "\n",
        "\n",
        "# Outlier Detection (using IQR method on TranAmount)\n",
        "print(\"\\n--- Outlier Detection on TranAmount ---\")\n",
        "Q1 = df['TranAmount'].quantile(0.25)\n",
        "Q3 = df['TranAmount'].quantile(0.75)\n",
        "IQR = Q3 - Q1\n",
        "lower_bound = Q1 - 1.5 * IQR\n",
        "upper_bound = Q3 + 1.5 * IQR\n",
        "\n",
        "outliers = df[(df['TranAmount'] < lower_bound) | (df['TranAmount'] > upper_bound)]\n",
        "print(f\"Number of outliers detected in TranAmount: {len(outliers)}\")\n",
        "if not outliers.empty:\n",
        "    print(\"Sample of detected outliers:\")\n",
        "    print(outliers.head())\n",
        "\n",
        "# --- 3. Analytical Work ---\n",
        "print(\"\\n--- 🔍 Analytical Work ---\")\n",
        "\n",
        "# Duplicates Analysis\n",
        "print(\"\\n--- Duplicates Analysis ---\")\n",
        "duplicate_rows = df.duplicated().sum()\n",
        "print(f\"Number of duplicate rows found: {duplicate_rows}\")\n",
        "\n",
        "# Relative Size Factor (RSF) Analysis\n",
        "print(\"\\n--- Relative Size Factor (RSF) Analysis ---\")\n",
        "# Group by sender ID and get the two largest transactions\n",
        "grouped = df.groupby('sId')['TranAmount'].nlargest(2).reset_index()\n",
        "\n",
        "# Directly access the largest and second largest amounts\n",
        "rsf_data = grouped.groupby('sId')['TranAmount'].agg(['first', 'last']).reset_index()\n",
        "rsf_data.columns = ['sId', 'largest_amount', 'second_largest_amount']\n",
        "\n",
        "# Calculate RSF\n",
        "rsf_data.dropna(inplace=True) # Only consider senders with at least 2 transactions\n",
        "rsf_data['RSF'] = rsf_data['largest_amount'] / rsf_data['second_largest_amount']\n",
        "\n",
        "# Display high RSF values (e.g., RSF > 2)\n",
        "high_rsf = rsf_data[rsf_data['RSF'] > 2].sort_values(by='RSF', ascending=False)\n",
        "print(f\"Number of senders with a high Relative Size Factor (RSF > 2): {len(high_rsf)}\")\n",
        "if not high_rsf.empty:\n",
        "    print(\"Senders with the highest RSF values:\")\n",
        "    print(high_rsf.head())\n",
        "\n",
        "\n",
        "# --- 4. Data Analysis ---\n",
        "print(\"\\n--- 🧮 Data Analysis ---\")\n",
        "\n",
        "# Conformity Assessment (Balance Check)\n",
        "print(\"\\n--- Conformity Assessment: Balance Check ---\")\n",
        "# Check if sBalbefore - sBalAfter is approximately equal to TranAmount\n",
        "df['balance_diff'] = df['sBalbefore'] - df['sBalAfter']\n",
        "# Using np.isclose for floating point comparison to handle small precision differences\n",
        "df['is_consistent'] = np.isclose(df['balance_diff'], df['TranAmount'])\n",
        "\n",
        "inconsistent_transactions = df[~df['is_consistent']]\n",
        "print(f\"Number of transactions with inconsistent balance updates: {len(inconsistent_transactions)}\")\n",
        "if not inconsistent_transactions.empty:\n",
        "    print(\"Sample of inconsistent transactions:\")\n",
        "    print(inconsistent_transactions[['sId', 'sBalbefore', 'sBalAfter', 'TranAmount', 'balance_diff']].head())\n",
        "\n",
        "# --- 5. Findings & Observations ---\n",
        "print(\"\\n--- ⚠️ Preliminary Findings & Observations ---\")\n",
        "print(f\"- *Outliers*: {len(outliers)} transactions were flagged as potential outliers based on their amount.\")\n",
        "print(f\"- *Duplicates*: {duplicate_rows} duplicate rows were identified.\")\n",
        "print(f\"- *High RSF*: {len(high_rsf)} senders showed a high Relative Size Factor, indicating unusually large transactions compared to their second-largest ones.\")\n",
        "print(f\"- *Inconsistent Balances*: {len(inconsistent_transactions)} transactions had inconsistencies between the transaction amount and the change in the sender's balance.\")\n",
        "print(\"\\nThese flagged entries warrant further investigation.\")"
      ]
    },
    {
      "cell_type": "code",
      "source": [],
      "metadata": {
        "id": "irwpW6Ev1qof"
      },
      "execution_count": null,
      "outputs": []
    },
    {
      "cell_type": "markdown",
      "metadata": {
        "id": "cddb410e"
      },
      "source": [
        "# Task\n",
        "Analyze the flagged transactions to identify patterns and characteristics that distinguish them from normal transactions."
      ]
    },
    {
      "cell_type": "markdown",
      "metadata": {
        "id": "ecba798e"
      },
      "source": [
        "## Select flagged transactions\n",
        "\n",
        "### Subtask:\n",
        "Create separate dataframes for each type of flagged transaction (outliers, high RSF, inconsistent balances).\n"
      ]
    },
    {
      "cell_type": "markdown",
      "metadata": {
        "id": "fc4048d0"
      },
      "source": [
        "**Reasoning**:\n",
        "Creating separate dataframes for each type of flagged transaction as per the instructions.\n",
        "\n"
      ]
    },
    {
      "cell_type": "code",
      "metadata": {
        "colab": {
          "base_uri": "https://localhost:8080/"
        },
        "id": "1add130b",
        "outputId": "35143b94-3ae8-46d8-90b9-b932e14fd6ba"
      },
      "source": [
        "df_outliers = df[df.index.isin(outliers.index)].copy()\n",
        "df_high_rsf = df[df['sId'].isin(high_rsf['sId'])].copy()\n",
        "df_inconsistent_balances = df[df.index.isin(inconsistent_transactions.index)].copy()\n",
        "\n",
        "print(\"Shape of df_outliers:\", df_outliers.shape)\n",
        "print(\"Shape of df_high_rsf:\", df_high_rsf.shape)\n",
        "print(\"Shape of df_inconsistent_balances:\", df_inconsistent_balances.shape)"
      ],
      "execution_count": null,
      "outputs": [
        {
          "output_type": "stream",
          "name": "stdout",
          "text": [
            "Shape of df_outliers: (4289, 27)\n",
            "Shape of df_high_rsf: (477, 27)\n",
            "Shape of df_inconsistent_balances: (13094, 27)\n"
          ]
        }
      ]
    },
    {
      "cell_type": "markdown",
      "metadata": {
        "id": "e2ebb5c4"
      },
      "source": [
        "## Analyze transaction types\n",
        "\n",
        "### Subtask:\n",
        "Examine the distribution of `TranType` for each group of flagged transactions.\n"
      ]
    },
    {
      "cell_type": "markdown",
      "metadata": {
        "id": "cda370ed"
      },
      "source": [
        "**Reasoning**:\n",
        "Calculate and print the transaction type distributions for each of the flagged transaction dataframes.\n",
        "\n"
      ]
    },
    {
      "cell_type": "code",
      "metadata": {
        "colab": {
          "base_uri": "https://localhost:8080/",
          "height": 681
        },
        "id": "9326bd9b",
        "outputId": "ed3fe99e-2563-461a-ccf6-a4e86dd0e7f3"
      },
      "source": [
        "print(\"--- Transaction Type Distribution for Outliers ---\")\n",
        "display(df_outliers['TranType'].value_counts())\n",
        "\n",
        "print(\"\\n--- Transaction Type Distribution for High RSF Transactions ---\")\n",
        "display(df_high_rsf['TranType'].value_counts())\n",
        "\n",
        "print(\"\\n--- Transaction Type Distribution for Inconsistent Balances ---\")\n",
        "display(df_inconsistent_balances['TranType'].value_counts())"
      ],
      "execution_count": null,
      "outputs": [
        {
          "output_type": "stream",
          "name": "stdout",
          "text": [
            "--- Transaction Type Distribution for Outliers ---\n"
          ]
        },
        {
          "output_type": "display_data",
          "data": {
            "text/plain": [
              "TranType\n",
              "Dt          2409\n",
              "Wl          1536\n",
              "Ind          304\n",
              "Merchant      40\n",
              "Name: count, dtype: int64"
            ],
            "text/html": [
              "<div>\n",
              "<style scoped>\n",
              "    .dataframe tbody tr th:only-of-type {\n",
              "        vertical-align: middle;\n",
              "    }\n",
              "\n",
              "    .dataframe tbody tr th {\n",
              "        vertical-align: top;\n",
              "    }\n",
              "\n",
              "    .dataframe thead th {\n",
              "        text-align: right;\n",
              "    }\n",
              "</style>\n",
              "<table border=\"1\" class=\"dataframe\">\n",
              "  <thead>\n",
              "    <tr style=\"text-align: right;\">\n",
              "      <th></th>\n",
              "      <th>count</th>\n",
              "    </tr>\n",
              "    <tr>\n",
              "      <th>TranType</th>\n",
              "      <th></th>\n",
              "    </tr>\n",
              "  </thead>\n",
              "  <tbody>\n",
              "    <tr>\n",
              "      <th>Dt</th>\n",
              "      <td>2409</td>\n",
              "    </tr>\n",
              "    <tr>\n",
              "      <th>Wl</th>\n",
              "      <td>1536</td>\n",
              "    </tr>\n",
              "    <tr>\n",
              "      <th>Ind</th>\n",
              "      <td>304</td>\n",
              "    </tr>\n",
              "    <tr>\n",
              "      <th>Merchant</th>\n",
              "      <td>40</td>\n",
              "    </tr>\n",
              "  </tbody>\n",
              "</table>\n",
              "</div><br><label><b>dtype:</b> int64</label>"
            ]
          },
          "metadata": {}
        },
        {
          "output_type": "stream",
          "name": "stdout",
          "text": [
            "\n",
            "--- Transaction Type Distribution for High RSF Transactions ---\n"
          ]
        },
        {
          "output_type": "display_data",
          "data": {
            "text/plain": [
              "TranType\n",
              "ArRC    339\n",
              "Wl       76\n",
              "Ind      62\n",
              "Name: count, dtype: int64"
            ],
            "text/html": [
              "<div>\n",
              "<style scoped>\n",
              "    .dataframe tbody tr th:only-of-type {\n",
              "        vertical-align: middle;\n",
              "    }\n",
              "\n",
              "    .dataframe tbody tr th {\n",
              "        vertical-align: top;\n",
              "    }\n",
              "\n",
              "    .dataframe thead th {\n",
              "        text-align: right;\n",
              "    }\n",
              "</style>\n",
              "<table border=\"1\" class=\"dataframe\">\n",
              "  <thead>\n",
              "    <tr style=\"text-align: right;\">\n",
              "      <th></th>\n",
              "      <th>count</th>\n",
              "    </tr>\n",
              "    <tr>\n",
              "      <th>TranType</th>\n",
              "      <th></th>\n",
              "    </tr>\n",
              "  </thead>\n",
              "  <tbody>\n",
              "    <tr>\n",
              "      <th>ArRC</th>\n",
              "      <td>339</td>\n",
              "    </tr>\n",
              "    <tr>\n",
              "      <th>Wl</th>\n",
              "      <td>76</td>\n",
              "    </tr>\n",
              "    <tr>\n",
              "      <th>Ind</th>\n",
              "      <td>62</td>\n",
              "    </tr>\n",
              "  </tbody>\n",
              "</table>\n",
              "</div><br><label><b>dtype:</b> int64</label>"
            ]
          },
          "metadata": {}
        },
        {
          "output_type": "stream",
          "name": "stdout",
          "text": [
            "\n",
            "--- Transaction Type Distribution for Inconsistent Balances ---\n"
          ]
        },
        {
          "output_type": "display_data",
          "data": {
            "text/plain": [
              "TranType\n",
              "Ind    8234\n",
              "Wl     4860\n",
              "Name: count, dtype: int64"
            ],
            "text/html": [
              "<div>\n",
              "<style scoped>\n",
              "    .dataframe tbody tr th:only-of-type {\n",
              "        vertical-align: middle;\n",
              "    }\n",
              "\n",
              "    .dataframe tbody tr th {\n",
              "        vertical-align: top;\n",
              "    }\n",
              "\n",
              "    .dataframe thead th {\n",
              "        text-align: right;\n",
              "    }\n",
              "</style>\n",
              "<table border=\"1\" class=\"dataframe\">\n",
              "  <thead>\n",
              "    <tr style=\"text-align: right;\">\n",
              "      <th></th>\n",
              "      <th>count</th>\n",
              "    </tr>\n",
              "    <tr>\n",
              "      <th>TranType</th>\n",
              "      <th></th>\n",
              "    </tr>\n",
              "  </thead>\n",
              "  <tbody>\n",
              "    <tr>\n",
              "      <th>Ind</th>\n",
              "      <td>8234</td>\n",
              "    </tr>\n",
              "    <tr>\n",
              "      <th>Wl</th>\n",
              "      <td>4860</td>\n",
              "    </tr>\n",
              "  </tbody>\n",
              "</table>\n",
              "</div><br><label><b>dtype:</b> int64</label>"
            ]
          },
          "metadata": {}
        }
      ]
    },
    {
      "cell_type": "markdown",
      "metadata": {
        "id": "b912e148"
      },
      "source": [
        "## Analyze sender and receiver types\n",
        "\n",
        "### Subtask:\n",
        "Investigate the distribution of `sType` and `rType` for each group of flagged transactions.\n"
      ]
    },
    {
      "cell_type": "markdown",
      "metadata": {
        "id": "a78447b5"
      },
      "source": [
        "**Reasoning**:\n",
        "Calculate and display the value counts for 'sType' and 'rType' for each of the three flagged transaction dataframes.\n",
        "\n"
      ]
    },
    {
      "cell_type": "code",
      "metadata": {
        "colab": {
          "base_uri": "https://localhost:8080/",
          "height": 1000
        },
        "id": "920b137e",
        "outputId": "5fe87f26-7d84-4ddc-bda4-0889c4acbabd"
      },
      "source": [
        "# Analysis for df_outliers\n",
        "print(\"--- Sender Type Distribution for Outlier Transactions ---\")\n",
        "display(df_outliers['sType'].value_counts())\n",
        "\n",
        "print(\"\\n--- Receiver Type Distribution for Outlier Transactions ---\")\n",
        "display(df_outliers['rType'].value_counts())\n",
        "\n",
        "# Analysis for df_high_rsf\n",
        "print(\"\\n--- Sender Type Distribution for High RSF Transactions ---\")\n",
        "display(df_high_rsf['sType'].value_counts())\n",
        "\n",
        "print(\"\\n--- Receiver Type Distribution for High RSF Transactions ---\")\n",
        "display(df_high_rsf['rType'].value_counts())\n",
        "\n",
        "# Analysis for df_inconsistent_balances\n",
        "print(\"\\n--- Sender Type Distribution for Inconsistent Balance Transactions ---\")\n",
        "display(df_inconsistent_balances['sType'].value_counts())\n",
        "\n",
        "print(\"\\n--- Receiver Type Distribution for Inconsistent Balance Transactions ---\")\n",
        "display(df_inconsistent_balances['rType'].value_counts())"
      ],
      "execution_count": null,
      "outputs": [
        {
          "output_type": "stream",
          "name": "stdout",
          "text": [
            "--- Sender Type Distribution for Outlier Transactions ---\n"
          ]
        },
        {
          "output_type": "display_data",
          "data": {
            "text/plain": [
              "sType\n",
              "RET    2409\n",
              "EU     1880\n",
              "Name: count, dtype: int64"
            ],
            "text/html": [
              "<div>\n",
              "<style scoped>\n",
              "    .dataframe tbody tr th:only-of-type {\n",
              "        vertical-align: middle;\n",
              "    }\n",
              "\n",
              "    .dataframe tbody tr th {\n",
              "        vertical-align: top;\n",
              "    }\n",
              "\n",
              "    .dataframe thead th {\n",
              "        text-align: right;\n",
              "    }\n",
              "</style>\n",
              "<table border=\"1\" class=\"dataframe\">\n",
              "  <thead>\n",
              "    <tr style=\"text-align: right;\">\n",
              "      <th></th>\n",
              "      <th>count</th>\n",
              "    </tr>\n",
              "    <tr>\n",
              "      <th>sType</th>\n",
              "      <th></th>\n",
              "    </tr>\n",
              "  </thead>\n",
              "  <tbody>\n",
              "    <tr>\n",
              "      <th>RET</th>\n",
              "      <td>2409</td>\n",
              "    </tr>\n",
              "    <tr>\n",
              "      <th>EU</th>\n",
              "      <td>1880</td>\n",
              "    </tr>\n",
              "  </tbody>\n",
              "</table>\n",
              "</div><br><label><b>dtype:</b> int64</label>"
            ]
          },
          "metadata": {}
        },
        {
          "output_type": "stream",
          "name": "stdout",
          "text": [
            "\n",
            "--- Receiver Type Distribution for Outlier Transactions ---\n"
          ]
        },
        {
          "output_type": "display_data",
          "data": {
            "text/plain": [
              "rType\n",
              "EU     2713\n",
              "RET    1536\n",
              "MER      40\n",
              "Name: count, dtype: int64"
            ],
            "text/html": [
              "<div>\n",
              "<style scoped>\n",
              "    .dataframe tbody tr th:only-of-type {\n",
              "        vertical-align: middle;\n",
              "    }\n",
              "\n",
              "    .dataframe tbody tr th {\n",
              "        vertical-align: top;\n",
              "    }\n",
              "\n",
              "    .dataframe thead th {\n",
              "        text-align: right;\n",
              "    }\n",
              "</style>\n",
              "<table border=\"1\" class=\"dataframe\">\n",
              "  <thead>\n",
              "    <tr style=\"text-align: right;\">\n",
              "      <th></th>\n",
              "      <th>count</th>\n",
              "    </tr>\n",
              "    <tr>\n",
              "      <th>rType</th>\n",
              "      <th></th>\n",
              "    </tr>\n",
              "  </thead>\n",
              "  <tbody>\n",
              "    <tr>\n",
              "      <th>EU</th>\n",
              "      <td>2713</td>\n",
              "    </tr>\n",
              "    <tr>\n",
              "      <th>RET</th>\n",
              "      <td>1536</td>\n",
              "    </tr>\n",
              "    <tr>\n",
              "      <th>MER</th>\n",
              "      <td>40</td>\n",
              "    </tr>\n",
              "  </tbody>\n",
              "</table>\n",
              "</div><br><label><b>dtype:</b> int64</label>"
            ]
          },
          "metadata": {}
        },
        {
          "output_type": "stream",
          "name": "stdout",
          "text": [
            "\n",
            "--- Sender Type Distribution for High RSF Transactions ---\n"
          ]
        },
        {
          "output_type": "display_data",
          "data": {
            "text/plain": [
              "sType\n",
              "EU    477\n",
              "Name: count, dtype: int64"
            ],
            "text/html": [
              "<div>\n",
              "<style scoped>\n",
              "    .dataframe tbody tr th:only-of-type {\n",
              "        vertical-align: middle;\n",
              "    }\n",
              "\n",
              "    .dataframe tbody tr th {\n",
              "        vertical-align: top;\n",
              "    }\n",
              "\n",
              "    .dataframe thead th {\n",
              "        text-align: right;\n",
              "    }\n",
              "</style>\n",
              "<table border=\"1\" class=\"dataframe\">\n",
              "  <thead>\n",
              "    <tr style=\"text-align: right;\">\n",
              "      <th></th>\n",
              "      <th>count</th>\n",
              "    </tr>\n",
              "    <tr>\n",
              "      <th>sType</th>\n",
              "      <th></th>\n",
              "    </tr>\n",
              "  </thead>\n",
              "  <tbody>\n",
              "    <tr>\n",
              "      <th>EU</th>\n",
              "      <td>477</td>\n",
              "    </tr>\n",
              "  </tbody>\n",
              "</table>\n",
              "</div><br><label><b>dtype:</b> int64</label>"
            ]
          },
          "metadata": {}
        },
        {
          "output_type": "stream",
          "name": "stdout",
          "text": [
            "\n",
            "--- Receiver Type Distribution for High RSF Transactions ---\n"
          ]
        },
        {
          "output_type": "display_data",
          "data": {
            "text/plain": [
              "rType\n",
              "operator    339\n",
              "RET          76\n",
              "EU           62\n",
              "Name: count, dtype: int64"
            ],
            "text/html": [
              "<div>\n",
              "<style scoped>\n",
              "    .dataframe tbody tr th:only-of-type {\n",
              "        vertical-align: middle;\n",
              "    }\n",
              "\n",
              "    .dataframe tbody tr th {\n",
              "        vertical-align: top;\n",
              "    }\n",
              "\n",
              "    .dataframe thead th {\n",
              "        text-align: right;\n",
              "    }\n",
              "</style>\n",
              "<table border=\"1\" class=\"dataframe\">\n",
              "  <thead>\n",
              "    <tr style=\"text-align: right;\">\n",
              "      <th></th>\n",
              "      <th>count</th>\n",
              "    </tr>\n",
              "    <tr>\n",
              "      <th>rType</th>\n",
              "      <th></th>\n",
              "    </tr>\n",
              "  </thead>\n",
              "  <tbody>\n",
              "    <tr>\n",
              "      <th>operator</th>\n",
              "      <td>339</td>\n",
              "    </tr>\n",
              "    <tr>\n",
              "      <th>RET</th>\n",
              "      <td>76</td>\n",
              "    </tr>\n",
              "    <tr>\n",
              "      <th>EU</th>\n",
              "      <td>62</td>\n",
              "    </tr>\n",
              "  </tbody>\n",
              "</table>\n",
              "</div><br><label><b>dtype:</b> int64</label>"
            ]
          },
          "metadata": {}
        },
        {
          "output_type": "stream",
          "name": "stdout",
          "text": [
            "\n",
            "--- Sender Type Distribution for Inconsistent Balance Transactions ---\n"
          ]
        },
        {
          "output_type": "display_data",
          "data": {
            "text/plain": [
              "sType\n",
              "EU    13094\n",
              "Name: count, dtype: int64"
            ],
            "text/html": [
              "<div>\n",
              "<style scoped>\n",
              "    .dataframe tbody tr th:only-of-type {\n",
              "        vertical-align: middle;\n",
              "    }\n",
              "\n",
              "    .dataframe tbody tr th {\n",
              "        vertical-align: top;\n",
              "    }\n",
              "\n",
              "    .dataframe thead th {\n",
              "        text-align: right;\n",
              "    }\n",
              "</style>\n",
              "<table border=\"1\" class=\"dataframe\">\n",
              "  <thead>\n",
              "    <tr style=\"text-align: right;\">\n",
              "      <th></th>\n",
              "      <th>count</th>\n",
              "    </tr>\n",
              "    <tr>\n",
              "      <th>sType</th>\n",
              "      <th></th>\n",
              "    </tr>\n",
              "  </thead>\n",
              "  <tbody>\n",
              "    <tr>\n",
              "      <th>EU</th>\n",
              "      <td>13094</td>\n",
              "    </tr>\n",
              "  </tbody>\n",
              "</table>\n",
              "</div><br><label><b>dtype:</b> int64</label>"
            ]
          },
          "metadata": {}
        },
        {
          "output_type": "stream",
          "name": "stdout",
          "text": [
            "\n",
            "--- Receiver Type Distribution for Inconsistent Balance Transactions ---\n"
          ]
        },
        {
          "output_type": "display_data",
          "data": {
            "text/plain": [
              "rType\n",
              "EU     8234\n",
              "RET    4860\n",
              "Name: count, dtype: int64"
            ],
            "text/html": [
              "<div>\n",
              "<style scoped>\n",
              "    .dataframe tbody tr th:only-of-type {\n",
              "        vertical-align: middle;\n",
              "    }\n",
              "\n",
              "    .dataframe tbody tr th {\n",
              "        vertical-align: top;\n",
              "    }\n",
              "\n",
              "    .dataframe thead th {\n",
              "        text-align: right;\n",
              "    }\n",
              "</style>\n",
              "<table border=\"1\" class=\"dataframe\">\n",
              "  <thead>\n",
              "    <tr style=\"text-align: right;\">\n",
              "      <th></th>\n",
              "      <th>count</th>\n",
              "    </tr>\n",
              "    <tr>\n",
              "      <th>rType</th>\n",
              "      <th></th>\n",
              "    </tr>\n",
              "  </thead>\n",
              "  <tbody>\n",
              "    <tr>\n",
              "      <th>EU</th>\n",
              "      <td>8234</td>\n",
              "    </tr>\n",
              "    <tr>\n",
              "      <th>RET</th>\n",
              "      <td>4860</td>\n",
              "    </tr>\n",
              "  </tbody>\n",
              "</table>\n",
              "</div><br><label><b>dtype:</b> int64</label>"
            ]
          },
          "metadata": {}
        }
      ]
    },
    {
      "cell_type": "markdown",
      "metadata": {
        "id": "d08f7035"
      },
      "source": [
        "## Analyze transaction amounts\n",
        "\n",
        "### Subtask:\n",
        "Analyze the distribution of `TranAmount` for the inconsistent and high RSF transactions.\n"
      ]
    },
    {
      "cell_type": "markdown",
      "metadata": {
        "id": "5ba350c9"
      },
      "source": [
        "**Reasoning**:\n",
        "Analyze the distribution of TranAmount for the inconsistent and high RSF transactions by printing descriptive summaries and calculating mean and median.\n",
        "\n"
      ]
    },
    {
      "cell_type": "code",
      "metadata": {
        "colab": {
          "base_uri": "https://localhost:8080/",
          "height": 808
        },
        "id": "1c778ad5",
        "outputId": "3f4ea583-fe12-4e95-82da-321152c6c9f5"
      },
      "source": [
        "print(\"--- Descriptive Summary of TranAmount for Inconsistent Balance Transactions ---\")\n",
        "display(df_inconsistent_balances['TranAmount'].describe())\n",
        "\n",
        "print(\"\\n--- Descriptive Summary of TranAmount for High RSF Transactions ---\")\n",
        "display(df_high_rsf['TranAmount'].describe())\n",
        "\n",
        "# Calculate and print mean and median\n",
        "mean_inconsistent = df_inconsistent_balances['TranAmount'].mean()\n",
        "median_inconsistent = df_inconsistent_balances['TranAmount'].median()\n",
        "mean_high_rsf = df_high_rsf['TranAmount'].mean()\n",
        "median_high_rsf = df_high_rsf['TranAmount'].median()\n",
        "\n",
        "print(f\"\\nMean TranAmount for Inconsistent Balance Transactions: {mean_inconsistent:.2f}\")\n",
        "print(f\"Median TranAmount for Inconsistent Balance Transactions: {median_inconsistent:.2f}\")\n",
        "\n",
        "print(f\"\\nMean TranAmount for High RSF Transactions: {mean_high_rsf:.2f}\")\n",
        "print(f\"Median TranAmount for High RSF Transactions: {median_high_rsf:.2f}\")\n"
      ],
      "execution_count": null,
      "outputs": [
        {
          "output_type": "stream",
          "name": "stdout",
          "text": [
            "--- Descriptive Summary of TranAmount for Inconsistent Balance Transactions ---\n"
          ]
        },
        {
          "output_type": "display_data",
          "data": {
            "text/plain": [
              "count    1.309400e+04\n",
              "mean     9.550320e+04\n",
              "std      1.042210e+05\n",
              "min      3.805000e+01\n",
              "25%      2.341501e+04\n",
              "50%      6.367445e+04\n",
              "75%      1.260257e+05\n",
              "max      1.053513e+06\n",
              "Name: TranAmount, dtype: float64"
            ],
            "text/html": [
              "<div>\n",
              "<style scoped>\n",
              "    .dataframe tbody tr th:only-of-type {\n",
              "        vertical-align: middle;\n",
              "    }\n",
              "\n",
              "    .dataframe tbody tr th {\n",
              "        vertical-align: top;\n",
              "    }\n",
              "\n",
              "    .dataframe thead th {\n",
              "        text-align: right;\n",
              "    }\n",
              "</style>\n",
              "<table border=\"1\" class=\"dataframe\">\n",
              "  <thead>\n",
              "    <tr style=\"text-align: right;\">\n",
              "      <th></th>\n",
              "      <th>TranAmount</th>\n",
              "    </tr>\n",
              "  </thead>\n",
              "  <tbody>\n",
              "    <tr>\n",
              "      <th>count</th>\n",
              "      <td>1.309400e+04</td>\n",
              "    </tr>\n",
              "    <tr>\n",
              "      <th>mean</th>\n",
              "      <td>9.550320e+04</td>\n",
              "    </tr>\n",
              "    <tr>\n",
              "      <th>std</th>\n",
              "      <td>1.042210e+05</td>\n",
              "    </tr>\n",
              "    <tr>\n",
              "      <th>min</th>\n",
              "      <td>3.805000e+01</td>\n",
              "    </tr>\n",
              "    <tr>\n",
              "      <th>25%</th>\n",
              "      <td>2.341501e+04</td>\n",
              "    </tr>\n",
              "    <tr>\n",
              "      <th>50%</th>\n",
              "      <td>6.367445e+04</td>\n",
              "    </tr>\n",
              "    <tr>\n",
              "      <th>75%</th>\n",
              "      <td>1.260257e+05</td>\n",
              "    </tr>\n",
              "    <tr>\n",
              "      <th>max</th>\n",
              "      <td>1.053513e+06</td>\n",
              "    </tr>\n",
              "  </tbody>\n",
              "</table>\n",
              "</div><br><label><b>dtype:</b> float64</label>"
            ]
          },
          "metadata": {}
        },
        {
          "output_type": "stream",
          "name": "stdout",
          "text": [
            "\n",
            "--- Descriptive Summary of TranAmount for High RSF Transactions ---\n"
          ]
        },
        {
          "output_type": "display_data",
          "data": {
            "text/plain": [
              "count       477.000000\n",
              "mean      19114.411174\n",
              "std       51858.582142\n",
              "min           1.020000\n",
              "25%        1249.030000\n",
              "50%        2819.340000\n",
              "75%        7295.700000\n",
              "max      533136.240000\n",
              "Name: TranAmount, dtype: float64"
            ],
            "text/html": [
              "<div>\n",
              "<style scoped>\n",
              "    .dataframe tbody tr th:only-of-type {\n",
              "        vertical-align: middle;\n",
              "    }\n",
              "\n",
              "    .dataframe tbody tr th {\n",
              "        vertical-align: top;\n",
              "    }\n",
              "\n",
              "    .dataframe thead th {\n",
              "        text-align: right;\n",
              "    }\n",
              "</style>\n",
              "<table border=\"1\" class=\"dataframe\">\n",
              "  <thead>\n",
              "    <tr style=\"text-align: right;\">\n",
              "      <th></th>\n",
              "      <th>TranAmount</th>\n",
              "    </tr>\n",
              "  </thead>\n",
              "  <tbody>\n",
              "    <tr>\n",
              "      <th>count</th>\n",
              "      <td>477.000000</td>\n",
              "    </tr>\n",
              "    <tr>\n",
              "      <th>mean</th>\n",
              "      <td>19114.411174</td>\n",
              "    </tr>\n",
              "    <tr>\n",
              "      <th>std</th>\n",
              "      <td>51858.582142</td>\n",
              "    </tr>\n",
              "    <tr>\n",
              "      <th>min</th>\n",
              "      <td>1.020000</td>\n",
              "    </tr>\n",
              "    <tr>\n",
              "      <th>25%</th>\n",
              "      <td>1249.030000</td>\n",
              "    </tr>\n",
              "    <tr>\n",
              "      <th>50%</th>\n",
              "      <td>2819.340000</td>\n",
              "    </tr>\n",
              "    <tr>\n",
              "      <th>75%</th>\n",
              "      <td>7295.700000</td>\n",
              "    </tr>\n",
              "    <tr>\n",
              "      <th>max</th>\n",
              "      <td>533136.240000</td>\n",
              "    </tr>\n",
              "  </tbody>\n",
              "</table>\n",
              "</div><br><label><b>dtype:</b> float64</label>"
            ]
          },
          "metadata": {}
        },
        {
          "output_type": "stream",
          "name": "stdout",
          "text": [
            "\n",
            "Mean TranAmount for Inconsistent Balance Transactions: 95503.20\n",
            "Median TranAmount for Inconsistent Balance Transactions: 63674.45\n",
            "\n",
            "Mean TranAmount for High RSF Transactions: 19114.41\n",
            "Median TranAmount for High RSF Transactions: 2819.34\n"
          ]
        }
      ]
    },
    {
      "cell_type": "markdown",
      "metadata": {
        "id": "4f415859"
      },
      "source": [
        "## Analyze balance differences\n",
        "\n",
        "### Subtask:\n",
        "Focus on the inconsistent balance transactions and analyze the distribution of `balance_diff`.\n"
      ]
    },
    {
      "cell_type": "markdown",
      "metadata": {
        "id": "574dc922"
      },
      "source": [
        "**Reasoning**:\n",
        "Calculate and display descriptive statistics for the `balance_diff` column in the `df_inconsistent_balances` DataFrame and then calculate and print the mean and median of the `balance_diff` column.\n",
        "\n"
      ]
    },
    {
      "cell_type": "code",
      "metadata": {
        "colab": {
          "base_uri": "https://localhost:8080/",
          "height": 404
        },
        "id": "3eb7d10e",
        "outputId": "08ca01c8-67a5-4ddd-8ec8-b8a6a88228b4"
      },
      "source": [
        "print(\"--- Descriptive Statistics for balance_diff in Inconsistent Balance Transactions ---\")\n",
        "display(df_inconsistent_balances['balance_diff'].describe())\n",
        "\n",
        "mean_balance_diff = df_inconsistent_balances['balance_diff'].mean()\n",
        "median_balance_diff = df_inconsistent_balances['balance_diff'].median()\n",
        "\n",
        "print(f\"\\nMean balance_diff for Inconsistent Balance Transactions: {mean_balance_diff:.2f}\")\n",
        "print(f\"Median balance_diff for Inconsistent Balance Transactions: {median_balance_diff:.2f}\")"
      ],
      "execution_count": null,
      "outputs": [
        {
          "output_type": "stream",
          "name": "stdout",
          "text": [
            "--- Descriptive Statistics for balance_diff in Inconsistent Balance Transactions ---\n"
          ]
        },
        {
          "output_type": "display_data",
          "data": {
            "text/plain": [
              "count    1.309400e+04\n",
              "mean     9.645823e+04\n",
              "std      1.052632e+05\n",
              "min      3.843000e+01\n",
              "25%      2.364916e+04\n",
              "50%      6.431120e+04\n",
              "75%      1.272860e+05\n",
              "max      1.064048e+06\n",
              "Name: balance_diff, dtype: float64"
            ],
            "text/html": [
              "<div>\n",
              "<style scoped>\n",
              "    .dataframe tbody tr th:only-of-type {\n",
              "        vertical-align: middle;\n",
              "    }\n",
              "\n",
              "    .dataframe tbody tr th {\n",
              "        vertical-align: top;\n",
              "    }\n",
              "\n",
              "    .dataframe thead th {\n",
              "        text-align: right;\n",
              "    }\n",
              "</style>\n",
              "<table border=\"1\" class=\"dataframe\">\n",
              "  <thead>\n",
              "    <tr style=\"text-align: right;\">\n",
              "      <th></th>\n",
              "      <th>balance_diff</th>\n",
              "    </tr>\n",
              "  </thead>\n",
              "  <tbody>\n",
              "    <tr>\n",
              "      <th>count</th>\n",
              "      <td>1.309400e+04</td>\n",
              "    </tr>\n",
              "    <tr>\n",
              "      <th>mean</th>\n",
              "      <td>9.645823e+04</td>\n",
              "    </tr>\n",
              "    <tr>\n",
              "      <th>std</th>\n",
              "      <td>1.052632e+05</td>\n",
              "    </tr>\n",
              "    <tr>\n",
              "      <th>min</th>\n",
              "      <td>3.843000e+01</td>\n",
              "    </tr>\n",
              "    <tr>\n",
              "      <th>25%</th>\n",
              "      <td>2.364916e+04</td>\n",
              "    </tr>\n",
              "    <tr>\n",
              "      <th>50%</th>\n",
              "      <td>6.431120e+04</td>\n",
              "    </tr>\n",
              "    <tr>\n",
              "      <th>75%</th>\n",
              "      <td>1.272860e+05</td>\n",
              "    </tr>\n",
              "    <tr>\n",
              "      <th>max</th>\n",
              "      <td>1.064048e+06</td>\n",
              "    </tr>\n",
              "  </tbody>\n",
              "</table>\n",
              "</div><br><label><b>dtype:</b> float64</label>"
            ]
          },
          "metadata": {}
        },
        {
          "output_type": "stream",
          "name": "stdout",
          "text": [
            "\n",
            "Mean balance_diff for Inconsistent Balance Transactions: 96458.23\n",
            "Median balance_diff for Inconsistent Balance Transactions: 64311.20\n"
          ]
        }
      ]
    },
    {
      "cell_type": "markdown",
      "metadata": {
        "id": "11aa10c5"
      },
      "source": [
        "## Visualize findings\n",
        "\n",
        "### Subtask:\n",
        "Create visualizations (e.g., bar plots, histograms) to illustrate the key characteristics of the flagged transactions.\n"
      ]
    },
    {
      "cell_type": "markdown",
      "metadata": {
        "id": "2175c227"
      },
      "source": [
        "**Reasoning**:\n",
        "Generate bar plots for the distribution of `TranType` for the three flagged dataframes and histograms for `TranAmount` and `balance_diff` as requested in the instructions.\n",
        "\n"
      ]
    },
    {
      "cell_type": "code",
      "metadata": {
        "colab": {
          "base_uri": "https://localhost:8080/",
          "height": 1000
        },
        "id": "0a3a970d",
        "outputId": "de1fcd5d-faf2-400f-d835-a1acb6d1b673"
      },
      "source": [
        "import matplotlib.pyplot as plt\n",
        "import seaborn as sns\n",
        "\n",
        "# 1. Distribution of TranType for df_outliers\n",
        "plt.figure(figsize=(8, 6))\n",
        "sns.countplot(data=df_outliers, x='TranType')\n",
        "plt.title('Distribution of Transaction Types in Outliers')\n",
        "plt.xlabel('Transaction Type')\n",
        "plt.ylabel('Count')\n",
        "plt.show()\n",
        "\n",
        "# 2. Distribution of TranType for df_high_rsf\n",
        "plt.figure(figsize=(8, 6))\n",
        "sns.countplot(data=df_high_rsf, x='TranType')\n",
        "plt.title('Distribution of Transaction Types in High RSF Transactions')\n",
        "plt.xlabel('Transaction Type')\n",
        "plt.ylabel('Count')\n",
        "plt.show()\n",
        "\n",
        "# 3. Distribution of TranType for df_inconsistent_balances\n",
        "plt.figure(figsize=(8, 6))\n",
        "sns.countplot(data=df_inconsistent_balances, x='TranType')\n",
        "plt.title('Distribution of Transaction Types in Inconsistent Balance Transactions')\n",
        "plt.xlabel('Transaction Type')\n",
        "plt.ylabel('Count')\n",
        "plt.show()\n",
        "\n",
        "# 4. Histogram of TranAmount for df_inconsistent_balances\n",
        "plt.figure(figsize=(10, 6))\n",
        "sns.histplot(data=df_inconsistent_balances, x='TranAmount', bins=50, kde=True)\n",
        "plt.title('Distribution of Transaction Amounts in Inconsistent Balance Transactions')\n",
        "plt.xlabel('Transaction Amount')\n",
        "plt.ylabel('Frequency')\n",
        "plt.show()\n",
        "\n",
        "# 5. Histogram of TranAmount for df_high_rsf\n",
        "plt.figure(figsize=(10, 6))\n",
        "sns.histplot(data=df_high_rsf, x='TranAmount', bins=50, kde=True)\n",
        "plt.title('Distribution of Transaction Amounts in High RSF Transactions')\n",
        "plt.xlabel('Transaction Amount')\n",
        "plt.ylabel('Frequency')\n",
        "plt.show()\n",
        "\n",
        "# 6. Histogram of balance_diff for df_inconsistent_balances\n",
        "plt.figure(figsize=(10, 6))\n",
        "sns.histplot(data=df_inconsistent_balances, x='balance_diff', bins=50, kde=True)\n",
        "plt.title('Distribution of Balance Differences in Inconsistent Balance Transactions')\n",
        "plt.xlabel('Balance Difference')\n",
        "plt.ylabel('Frequency')\n",
        "plt.show()"
      ],
      "execution_count": null,
      "outputs": [
        {
          "output_type": "display_data",
          "data": {
            "text/plain": [
              "<Figure size 800x600 with 1 Axes>"
            ],
            "image/png": "[encoded data removed]"
          },
          "metadata": {}
        },
        {
          "output_type": "display_data",
          "data": {
            "text/plain": [
              "<Figure size 800x600 with 1 Axes>"
            ],
            "image/png": "[encoded data removed]"
          },
          "metadata": {}
        },
        {
          "output_type": "display_data",
          "data": {
            "text/plain": [
              "<Figure size 800x600 with 1 Axes>"
            ],
            "image/png": "[encoded data removed]"
          },
          "metadata": {}
        },
        {
          "output_type": "display_data",
          "data": {
            "text/plain": [
              "<Figure size 1000x600 with 1 Axes>"
            ],
            "image/png": "[encoded data removed]"
          },
          "metadata": {}
        },
        {
          "output_type": "display_data",
          "data": {
            "text/plain": [
              "<Figure size 1000x600 with 1 Axes>"
            ],
            "image/png": "[encoded data removed]"
          },
          "metadata": {}
        },
        {
          "output_type": "display_data",
          "data": {
            "text/plain": [
              "<Figure size 1000x600 with 1 Axes>"
            ],
            "image/png": "[encoded data removed]"
          },
          "metadata": {}
        }
      ]
    },
    {
      "cell_type": "markdown",
      "metadata": {
        "id": "5d5d1763"
      },
      "source": [
        "## Summarize findings\n",
        "\n",
        "### Subtask:\n",
        "Provide a summary of the key observations about the flagged transactions.\n"
      ]
    },
    {
      "cell_type": "markdown",
      "metadata": {
        "id": "cebeb07b"
      },
      "source": [
        "**Reasoning**:\n",
        "Synthesize the findings from the previous analysis steps into a concise summary highlighting the distinct characteristics of each flagged group and compare them.\n",
        "\n"
      ]
    },
    {
      "cell_type": "code",
      "metadata": {
        "colab": {
          "base_uri": "https://localhost:8080/"
        },
        "id": "1486675f",
        "outputId": "b5e05958-5fed-4726-b8f2-c1bec0788256"
      },
      "source": [
        "print(\"--- Summary of Flagged Transaction Characteristics ---\")\n",
        "\n",
        "print(\"\\n**Outlier Transactions (based on TranAmount):**\")\n",
        "print(\"- Primarily characterized by unusually high transaction amounts compared to the rest of the dataset, as identified by the IQR method.\")\n",
        "print(f\"- The dominant transaction types are '{df_outliers['TranType'].value_counts().index[0]}' and '{df_outliers['TranType'].value_counts().index[1]}'.\")\n",
        "print(f\"- Sender types are mainly '{df_outliers['sType'].value_counts().index[0]}' and '{df_outliers['sType'].value_counts().index[1]}', while receiver types are primarily '{df_outliers['rType'].value_counts().index[0]}' and '{df_outliers['rType'].value_counts().index[1]}'.\")\n",
        "\n",
        "\n",
        "print(\"\\n**High Relative Size Factor (RSF) Transactions:**\")\n",
        "print(\"- Identified by a large ratio between the largest and second-largest transaction amounts for a given sender, suggesting a significantly larger transaction event for that sender.\")\n",
        "print(f\"- The most frequent transaction type is '{df_high_rsf['TranType'].value_counts().index[0]}'.\")\n",
        "print(f\"- Sender types are exclusively '{df_high_rsf['sType'].value_counts().index[0]}'.\")\n",
        "print(f\"- Receiver types are predominantly '{df_high_rsf['rType'].value_counts().index[0]}', '{df_high_rsf['rType'].value_counts().index[1]}', and '{df_high_rsf['rType'].value_counts().index[2]}'.\")\n",
        "print(f\"- While flagged by RSF, the absolute transaction amounts are generally lower (Mean: {df_high_rsf['TranAmount'].mean():.2f}, Median: {df_high_rsf['TranAmount'].median():.2f}) compared to transactions flagged as outliers based purely on amount.\")\n",
        "\n",
        "print(\"\\n**Inconsistent Balance Transactions:**\")\n",
        "print(\"- These transactions show a discrepancy between the transaction amount and the change in the sender's balance.\")\n",
        "print(f\"- The primary transaction types are '{df_inconsistent_balances['TranType'].value_counts().index[0]}' and '{df_inconsistent_balances['TranType'].value_counts().index[1]}'.\")\n",
        "print(f\"- Sender types are exclusively '{df_inconsistent_balances['sType'].value_counts().index[0]}'.\")\n",
        "print(f\"- Receiver types are mainly '{df_inconsistent_balances['rType'].value_counts().index[0]}' and '{df_inconsistent_balances['rType'].value_counts().index[1]}'.\")\n",
        "print(f\"- These transactions involve a wide range of amounts (Mean TranAmount: {df_inconsistent_balances['TranAmount'].mean():.2f}, Median TranAmount: {df_inconsistent_balances['TranAmount'].median():.2f}).\")\n",
        "print(f\"- The 'balance_diff' (sBalbefore - sBalAfter) in this group has a mean of {df_inconsistent_balances['balance_diff'].mean():.2f} and a median of {df_inconsistent_balances['balance_diff'].median():.2f}, indicating the magnitude of the inconsistency.\")\n",
        "\n",
        "print(\"\\n**Comparative Analysis:**\")\n",
        "print(\"- Outliers based on amount tend to involve large sums regardless of sender/receiver types or transaction type distribution, although certain types are more frequent.\")\n",
        "print(\"- High RSF transactions highlight senders with disproportionately large individual transactions relative to their history, often involving specific transaction types ('ArRC') and 'EU' senders interacting with 'operator' or 'RET' receivers. Their absolute amounts are lower than general outliers.\")\n",
        "print(\"- Inconsistent balance transactions point to data integrity issues or potential manipulation. They involve a significant portion of the dataset and cover a broader range of transaction amounts than high RSF transactions, although generally lower than the most extreme outliers. The inconsistency is focused on 'EU' senders and 'EU' or 'RET' receivers, with 'Ind' and 'Wl' transaction types being most common.\")"
      ],
      "execution_count": null,
      "outputs": [
        {
          "output_type": "stream",
          "name": "stdout",
          "text": [
            "--- Summary of Flagged Transaction Characteristics ---\n",
            "\n",
            "**Outlier Transactions (based on TranAmount):**\n",
            "- Primarily characterized by unusually high transaction amounts compared to the rest of the dataset, as identified by the IQR method.\n",
            "- The dominant transaction types are 'Dt' and 'Wl'.\n",
            "- Sender types are mainly 'RET' and 'EU', while receiver types are primarily 'EU' and 'RET'.\n",
            "\n",
            "**High Relative Size Factor (RSF) Transactions:**\n",
            "- Identified by a large ratio between the largest and second-largest transaction amounts for a given sender, suggesting a significantly larger transaction event for that sender.\n",
            "- The most frequent transaction type is 'ArRC'.\n",
            "- Sender types are exclusively 'EU'.\n",
            "- Receiver types are predominantly 'operator', 'RET', and 'EU'.\n",
            "- While flagged by RSF, the absolute transaction amounts are generally lower (Mean: 19114.41, Median: 2819.34) compared to transactions flagged as outliers based purely on amount.\n",
            "\n",
            "**Inconsistent Balance Transactions:**\n",
            "- These transactions show a discrepancy between the transaction amount and the change in the sender's balance.\n",
            "- The primary transaction types are 'Ind' and 'Wl'.\n",
            "- Sender types are exclusively 'EU'.\n",
            "- Receiver types are mainly 'EU' and 'RET'.\n",
            "- These transactions involve a wide range of amounts (Mean TranAmount: 95503.20, Median TranAmount: 63674.45).\n",
            "- The 'balance_diff' (sBalbefore - sBalAfter) in this group has a mean of 96458.23 and a median of 64311.20, indicating the magnitude of the inconsistency.\n",
            "\n",
            "**Comparative Analysis:**\n",
            "- Outliers based on amount tend to involve large sums regardless of sender/receiver types or transaction type distribution, although certain types are more frequent.\n",
            "- High RSF transactions highlight senders with disproportionately large individual transactions relative to their history, often involving specific transaction types ('ArRC') and 'EU' senders interacting with 'operator' or 'RET' receivers. Their absolute amounts are lower than general outliers.\n",
            "- Inconsistent balance transactions point to data integrity issues or potential manipulation. They involve a significant portion of the dataset and cover a broader range of transaction amounts than high RSF transactions, although generally lower than the most extreme outliers. The inconsistency is focused on 'EU' senders and 'EU' or 'RET' receivers, with 'Ind' and 'Wl' transaction types being most common.\n"
          ]
        }
      ]
    },
    {
      "cell_type": "markdown",
      "metadata": {
        "id": "48740d76"
      },
      "source": [
        "## Summary:\n",
        "\n",
        "### Data Analysis Key Findings\n",
        "\n",
        "*   The analysis identified three distinct groups of flagged transactions: Outliers (based on `TranAmount`), High RSF (Relative Size Factor), and Inconsistent Balances.\n",
        "*   Outlier transactions primarily involved 'Dt' and 'Wl' transaction types, with sender types ('sType') being mainly 'RET' and 'EU', and receiver types ('rType') mainly 'EU' and 'RET'.\n",
        "*   High RSF transactions were dominated by the 'ArRC' transaction type, exclusively involved 'EU' senders, and predominantly involved 'operator', 'RET', and 'EU' receivers. The transaction amounts in this group were generally lower than those in the general outlier group (Mean: \\$19,114, Median: \\$2,819).\n",
        "*   Inconsistent Balance transactions showed a discrepancy between transaction amount and balance change. These were primarily 'Ind' and 'Wl' transaction types, exclusively involved 'EU' senders, and mainly involved 'EU' and 'RET' receivers. These transactions had a wide range of amounts (Mean: \\$95,503, Median: \\$63,674) and a mean balance difference of \\$96,458.23.\n",
        "*   Visualizations confirmed these distributions, showing the prevalence of specific transaction types and highlighting the different ranges of transaction amounts and balance differences within the flagged groups.\n",
        "\n",
        "### Insights or Next Steps\n",
        "\n",
        "*   The distinct characteristics of each flagged group suggest that different detection rules or monitoring strategies may be required for each type of suspicious activity.\n",
        "*   Further investigation into the 'ArRC' transaction type and 'EU' senders involved in high RSF transactions could provide more specific insights into the nature of this activity. The root cause of the inconsistent balance transactions, particularly the large average balance difference, warrants immediate investigation to address potential data integrity issues or fraudulent patterns.\n"
      ]
    },
    {
      "cell_type": "code",
      "source": [],
      "metadata": {
        "id": "Juxwb2V27dUS"
      },
      "execution_count": null,
      "outputs": []
    },
    {
      "cell_type": "markdown",
      "metadata": {
        "id": "22e831b1"
      },
      "source": [
        "# Task\n",
        "Analyze the characteristics of the flagged transactions, including transaction types, sender and receiver types, transaction amounts, and balance differences. Investigate the 'arrc' transaction type within the high RSF transactions. Summarize the findings and suggest next steps."
      ]
    },
    {
      "cell_type": "markdown",
      "metadata": {
        "id": "f3757f83"
      },
      "source": [
        "## Investigate 'arrc' in high rsf\n",
        "\n",
        "### Subtask:\n",
        "Filter the high RSF transactions to specifically examine those with 'ArRC' as the `TranType` and analyze their characteristics.\n"
      ]
    },
    {
      "cell_type": "markdown",
      "metadata": {
        "id": "ef7a4aae"
      },
      "source": [
        "**Reasoning**:\n",
        "Filter the high RSF transactions for 'ArRC' transaction type and analyze its characteristics as requested.\n",
        "\n"
      ]
    },
    {
      "cell_type": "code",
      "metadata": {
        "colab": {
          "base_uri": "https://localhost:8080/",
          "height": 1000
        },
        "id": "459cd9e0",
        "outputId": "6213542e-8a0e-48ff-bb8e-85ca852c4e70"
      },
      "source": [
        "# Filter for 'ArRC' transactions within the high RSF group\n",
        "df_high_rsf_arrc = df_high_rsf[df_high_rsf['TranType'] == 'ArRC'].copy()\n",
        "\n",
        "# Print shape and head\n",
        "print(\"Shape of df_high_rsf_arrc:\", df_high_rsf_arrc.shape)\n",
        "print(\"\\nFirst 5 rows of df_high_rsf_arrc:\")\n",
        "display(df_high_rsf_arrc.head())\n",
        "\n",
        "# Analyze sType and rType distribution\n",
        "print(\"\\n--- Sender Type Distribution for High RSF 'ArRC' Transactions ---\")\n",
        "display(df_high_rsf_arrc['sType'].value_counts())\n",
        "\n",
        "print(\"\\n--- Receiver Type Distribution for High RSF 'ArRC' Transactions ---\")\n",
        "display(df_high_rsf_arrc['rType'].value_counts())\n",
        "\n",
        "# Analyze TranAmount distribution\n",
        "print(\"\\n--- Descriptive Statistics for TranAmount in High RSF 'ArRC' Transactions ---\")\n",
        "display(df_high_rsf_arrc['TranAmount'].describe())\n",
        "\n",
        "mean_arrc_high_rsf = df_high_rsf_arrc['TranAmount'].mean()\n",
        "median_arrc_high_rsf = df_high_rsf_arrc['TranAmount'].median()\n",
        "\n",
        "print(f\"\\nMean TranAmount for High RSF 'ArRC' Transactions: {mean_arrc_high_rsf:.2f}\")\n",
        "print(f\"Median TranAmount for High RSF 'ArRC' Transactions: {median_arrc_high_rsf:.2f}\")"
      ],
      "execution_count": null,
      "outputs": [
        {
          "output_type": "stream",
          "name": "stdout",
          "text": [
            "Shape of df_high_rsf_arrc: (339, 27)\n",
            "\n",
            "First 5 rows of df_high_rsf_arrc:\n"
          ]
        },
        {
          "output_type": "display_data",
          "data": {
            "text/plain": [
              "             gT            sId       rId         sAcc rAcc  TranAmount  \\\n",
              "51    N_Reg_RC     PN_EU_0_961  operator   EUAcc0_961   A0      929.78   \n",
              "348   N_Reg_RC     PN_EU_1_480  operator   EUAcc1_480   A0     1864.15   \n",
              "438   N_Reg_RC    PN_EU_0_1194  operator  EUAcc0_1194   A0     3122.08   \n",
              "1058  N_Reg_RC    PN_EU_0_1223  operator  EUAcc0_1223   A0      526.97   \n",
              "1200  N_Reg_RC    PN_EU_0_1075  operator  EUAcc0_1075   A0      423.40   \n",
              "\n",
              "     TranType TranStatus    sBalbefore    sBalAfter  ...                rTD  \\\n",
              "51       ArRC         SU  1.000000e+08  99999070.22  ...   1/6/2011 7:31:11   \n",
              "348      ArRC         SU  1.000000e+08  99998135.85  ...  2/6/2011 18:48:23   \n",
              "438      ArRC         SU  1.000000e+08  99996877.92  ...    3/6/2011 3:23:7   \n",
              "1058     ArRC         SU  9.996104e+07  99960513.64  ...   5/6/2011 0:55:49   \n",
              "1200     ArRC         SU  1.000000e+08  99999576.60  ...  5/6/2011 13:17:13   \n",
              "\n",
              "           sAccID  ef1  ef2    NoDescription             TranTS sType  \\\n",
              "51     EUAcc0_961  NaN  NaN   Rc201161.73131   1/6/2011 7:31:11    EU   \n",
              "348    EUAcc1_480  NaN  NaN  Rc201162.184848  2/6/2011 18:48:23    EU   \n",
              "438   EUAcc0_1194  NaN  NaN   Rc201163.32323    3/6/2011 3:23:7    EU   \n",
              "1058  EUAcc0_1223  NaN  NaN   Rc201165.05555   5/6/2011 0:55:49    EU   \n",
              "1200  EUAcc0_1075  NaN  NaN  Rc201165.131717  5/6/2011 13:17:13    EU   \n",
              "\n",
              "         rType balance_diff  is_consistent  \n",
              "51    operator       929.78           True  \n",
              "348   operator      1864.15           True  \n",
              "438   operator      3122.08           True  \n",
              "1058  operator       526.97           True  \n",
              "1200  operator       423.40           True  \n",
              "\n",
              "[5 rows x 27 columns]"
            ],
            "text/html": [
              "\n",
              "  <div id=\"df-765d247c-b35a-4577-ab4d-f8ad7e216719\" class=\"colab-df-container\">\n",
              "    <div>\n",
              "<style scoped>\n",
              "    .dataframe tbody tr th:only-of-type {\n",
              "        vertical-align: middle;\n",
              "    }\n",
              "\n",
              "    .dataframe tbody tr th {\n",
              "        vertical-align: top;\n",
              "    }\n",
              "\n",
              "    .dataframe thead th {\n",
              "        text-align: right;\n",
              "    }\n",
              "</style>\n",
              "<table border=\"1\" class=\"dataframe\">\n",
              "  <thead>\n",
              "    <tr style=\"text-align: right;\">\n",
              "      <th></th>\n",
              "      <th>gT</th>\n",
              "      <th>sId</th>\n",
              "      <th>rId</th>\n",
              "      <th>sAcc</th>\n",
              "      <th>rAcc</th>\n",
              "      <th>TranAmount</th>\n",
              "      <th>TranType</th>\n",
              "      <th>TranStatus</th>\n",
              "      <th>sBalbefore</th>\n",
              "      <th>sBalAfter</th>\n",
              "      <th>...</th>\n",
              "      <th>rTD</th>\n",
              "      <th>sAccID</th>\n",
              "      <th>ef1</th>\n",
              "      <th>ef2</th>\n",
              "      <th>NoDescription</th>\n",
              "      <th>TranTS</th>\n",
              "      <th>sType</th>\n",
              "      <th>rType</th>\n",
              "      <th>balance_diff</th>\n",
              "      <th>is_consistent</th>\n",
              "    </tr>\n",
              "  </thead>\n",
              "  <tbody>\n",
              "    <tr>\n",
              "      <th>51</th>\n",
              "      <td>N_Reg_RC</td>\n",
              "      <td>PN_EU_0_961</td>\n",
              "      <td>operator</td>\n",
              "      <td>EUAcc0_961</td>\n",
              "      <td>A0</td>\n",
              "      <td>929.78</td>\n",
              "      <td>ArRC</td>\n",
              "      <td>SU</td>\n",
              "      <td>1.000000e+08</td>\n",
              "      <td>99999070.22</td>\n",
              "      <td>...</td>\n",
              "      <td>1/6/2011 7:31:11</td>\n",
              "      <td>EUAcc0_961</td>\n",
              "      <td>NaN</td>\n",
              "      <td>NaN</td>\n",
              "      <td>Rc201161.73131</td>\n",
              "      <td>1/6/2011 7:31:11</td>\n",
              "      <td>EU</td>\n",
              "      <td>operator</td>\n",
              "      <td>929.78</td>\n",
              "      <td>True</td>\n",
              "    </tr>\n",
              "    <tr>\n",
              "      <th>348</th>\n",
              "      <td>N_Reg_RC</td>\n",
              "      <td>PN_EU_1_480</td>\n",
              "      <td>operator</td>\n",
              "      <td>EUAcc1_480</td>\n",
              "      <td>A0</td>\n",
              "      <td>1864.15</td>\n",
              "      <td>ArRC</td>\n",
              "      <td>SU</td>\n",
              "      <td>1.000000e+08</td>\n",
              "      <td>99998135.85</td>\n",
              "      <td>...</td>\n",
              "      <td>2/6/2011 18:48:23</td>\n",
              "      <td>EUAcc1_480</td>\n",
              "      <td>NaN</td>\n",
              "      <td>NaN</td>\n",
              "      <td>Rc201162.184848</td>\n",
              "      <td>2/6/2011 18:48:23</td>\n",
              "      <td>EU</td>\n",
              "      <td>operator</td>\n",
              "      <td>1864.15</td>\n",
              "      <td>True</td>\n",
              "    </tr>\n",
              "    <tr>\n",
              "      <th>438</th>\n",
              "      <td>N_Reg_RC</td>\n",
              "      <td>PN_EU_0_1194</td>\n",
              "      <td>operator</td>\n",
              "      <td>EUAcc0_1194</td>\n",
              "      <td>A0</td>\n",
              "      <td>3122.08</td>\n",
              "      <td>ArRC</td>\n",
              "      <td>SU</td>\n",
              "      <td>1.000000e+08</td>\n",
              "      <td>99996877.92</td>\n",
              "      <td>...</td>\n",
              "      <td>3/6/2011 3:23:7</td>\n",
              "      <td>EUAcc0_1194</td>\n",
              "      <td>NaN</td>\n",
              "      <td>NaN</td>\n",
              "      <td>Rc201163.32323</td>\n",
              "      <td>3/6/2011 3:23:7</td>\n",
              "      <td>EU</td>\n",
              "      <td>operator</td>\n",
              "      <td>3122.08</td>\n",
              "      <td>True</td>\n",
              "    </tr>\n",
              "    <tr>\n",
              "      <th>1058</th>\n",
              "      <td>N_Reg_RC</td>\n",
              "      <td>PN_EU_0_1223</td>\n",
              "      <td>operator</td>\n",
              "      <td>EUAcc0_1223</td>\n",
              "      <td>A0</td>\n",
              "      <td>526.97</td>\n",
              "      <td>ArRC</td>\n",
              "      <td>SU</td>\n",
              "      <td>9.996104e+07</td>\n",
              "      <td>99960513.64</td>\n",
              "      <td>...</td>\n",
              "      <td>5/6/2011 0:55:49</td>\n",
              "      <td>EUAcc0_1223</td>\n",
              "      <td>NaN</td>\n",
              "      <td>NaN</td>\n",
              "      <td>Rc201165.05555</td>\n",
              "      <td>5/6/2011 0:55:49</td>\n",
              "      <td>EU</td>\n",
              "      <td>operator</td>\n",
              "      <td>526.97</td>\n",
              "      <td>True</td>\n",
              "    </tr>\n",
              "    <tr>\n",
              "      <th>1200</th>\n",
              "      <td>N_Reg_RC</td>\n",
              "      <td>PN_EU_0_1075</td>\n",
              "      <td>operator</td>\n",
              "      <td>EUAcc0_1075</td>\n",
              "      <td>A0</td>\n",
              "      <td>423.40</td>\n",
              "      <td>ArRC</td>\n",
              "      <td>SU</td>\n",
              "      <td>1.000000e+08</td>\n",
              "      <td>99999576.60</td>\n",
              "      <td>...</td>\n",
              "      <td>5/6/2011 13:17:13</td>\n",
              "      <td>EUAcc0_1075</td>\n",
              "      <td>NaN</td>\n",
              "      <td>NaN</td>\n",
              "      <td>Rc201165.131717</td>\n",
              "      <td>5/6/2011 13:17:13</td>\n",
              "      <td>EU</td>\n",
              "      <td>operator</td>\n",
              "      <td>423.40</td>\n",
              "      <td>True</td>\n",
              "    </tr>\n",
              "  </tbody>\n",
              "</table>\n",
              "<p>5 rows × 27 columns</p>\n",
              "</div>\n",
              "    <div class=\"colab-df-buttons\">\n",
              "\n",
              "  <div class=\"colab-df-container\">\n",
              "    <button class=\"colab-df-convert\" onclick=\"convertToInteractive('df-765d247c-b35a-4577-ab4d-f8ad7e216719')\"\n",
              "            title=\"Convert this dataframe to an interactive table.\"\n",
              "            style=\"display:none;\">\n",
              "\n",
              "  <svg xmlns=\"http://www.w3.org/2000/svg\" height=\"24px\" viewBox=\"0 -960 960 960\">\n",
              "    <path d=\"M120-120v-720h720v720H120Zm60-500h600v-160H180v160Zm220 220h160v-160H400v160Zm0 220h160v-160H400v160ZM180-400h160v-160H180v160Zm440 0h160v-160H620v160ZM180-180h160v-160H180v160Zm440 0h160v-160H620v160Z\"/>\n",
              "  </svg>\n",
              "    </button>\n",
              "\n",
              "  <style>\n",
              "    .colab-df-container {\n",
              "      display:flex;\n",
              "      gap: 12px;\n",
              "    }\n",
              "\n",
              "    .colab-df-convert {\n",
              "      background-color: #E8F0FE;\n",
              "      border: none;\n",
              "      border-radius: 50%;\n",
              "      cursor: pointer;\n",
              "      display: none;\n",
              "      fill: #1967D2;\n",
              "      height: 32px;\n",
              "      padding: 0 0 0 0;\n",
              "      width: 32px;\n",
              "    }\n",
              "\n",
              "    .colab-df-convert:hover {\n",
              "      background-color: #E2EBFA;\n",
              "      box-shadow: 0px 1px 2px rgba(60, 64, 67, 0.3), 0px 1px 3px 1px rgba(60, 64, 67, 0.15);\n",
              "      fill: #174EA6;\n",
              "    }\n",
              "\n",
              "    .colab-df-buttons div {\n",
              "      margin-bottom: 4px;\n",
              "    }\n",
              "\n",
              "    [theme=dark] .colab-df-convert {\n",
              "      background-color: #3B4455;\n",
              "      fill: #D2E3FC;\n",
              "    }\n",
              "\n",
              "    [theme=dark] .colab-df-convert:hover {\n",
              "      background-color: #434B5C;\n",
              "      box-shadow: 0px 1px 3px 1px rgba(0, 0, 0, 0.15);\n",
              "      filter: drop-shadow(0px 1px 2px rgba(0, 0, 0, 0.3));\n",
              "      fill: #FFFFFF;\n",
              "    }\n",
              "  </style>\n",
              "\n",
              "    <script>\n",
              "      const buttonEl =\n",
              "        document.querySelector('#df-765d247c-b35a-4577-ab4d-f8ad7e216719 button.colab-df-convert');\n",
              "      buttonEl.style.display =\n",
              "        google.colab.kernel.accessAllowed ? 'block' : 'none';\n",
              "\n",
              "      async function convertToInteractive(key) {\n",
              "        const element = document.querySelector('#df-765d247c-b35a-4577-ab4d-f8ad7e216719');\n",
              "        const dataTable =\n",
              "          await google.colab.kernel.invokeFunction('convertToInteractive',\n",
              "                                                    [key], {});\n",
              "        if (!dataTable) return;\n",
              "\n",
              "        const docLinkHtml = 'Like what you see? Visit the ' +\n",
              "          '<a target=\"_blank\" href=https://colab.research.google.com/notebooks/data_table.ipynb>data table notebook</a>'\n",
              "          + ' to learn more about interactive tables.';\n",
              "        element.innerHTML = '';\n",
              "        dataTable['output_type'] = 'display_data';\n",
              "        await google.colab.output.renderOutput(dataTable, element);\n",
              "        const docLink = document.createElement('div');\n",
              "        docLink.innerHTML = docLinkHtml;\n",
              "        element.appendChild(docLink);\n",
              "      }\n",
              "    </script>\n",
              "  </div>\n",
              "\n",
              "\n",
              "    <div id=\"df-6f865e6d-a26a-4a72-9e2e-9a2a55bf8f58\">\n",
              "      <button class=\"colab-df-quickchart\" onclick=\"quickchart('df-6f865e6d-a26a-4a72-9e2e-9a2a55bf8f58')\"\n",
              "                title=\"Suggest charts\"\n",
              "                style=\"display:none;\">\n",
              "\n",
              "<svg xmlns=\"http://www.w3.org/2000/svg\" height=\"24px\"viewBox=\"0 0 24 24\"\n",
              "     width=\"24px\">\n",
              "    <g>\n",
              "        <path d=\"M19 3H5c-1.1 0-2 .9-2 2v14c0 1.1.9 2 2 2h14c1.1 0 2-.9 2-2V5c0-1.1-.9-2-2-2zM9 17H7v-7h2v7zm4 0h-2V7h2v10zm4 0h-2v-4h2v4z\"/>\n",
              "    </g>\n",
              "</svg>\n",
              "      </button>\n",
              "\n",
              "<style>\n",
              "  .colab-df-quickchart {\n",
              "      --bg-color: #E8F0FE;\n",
              "      --fill-color: #1967D2;\n",
              "      --hover-bg-color: #E2EBFA;\n",
              "      --hover-fill-color: #174EA6;\n",
              "      --disabled-fill-color: #AAA;\n",
              "      --disabled-bg-color: #DDD;\n",
              "  }\n",
              "\n",
              "  [theme=dark] .colab-df-quickchart {\n",
              "      --bg-color: #3B4455;\n",
              "      --fill-color: #D2E3FC;\n",
              "      --hover-bg-color: #434B5C;\n",
              "      --hover-fill-color: #FFFFFF;\n",
              "      --disabled-bg-color: #3B4455;\n",
              "      --disabled-fill-color: #666;\n",
              "  }\n",
              "\n",
              "  .colab-df-quickchart {\n",
              "    background-color: var(--bg-color);\n",
              "    border: none;\n",
              "    border-radius: 50%;\n",
              "    cursor: pointer;\n",
              "    display: none;\n",
              "    fill: var(--fill-color);\n",
              "    height: 32px;\n",
              "    padding: 0;\n",
              "    width: 32px;\n",
              "  }\n",
              "\n",
              "  .colab-df-quickchart:hover {\n",
              "    background-color: var(--hover-bg-color);\n",
              "    box-shadow: 0 1px 2px rgba(60, 64, 67, 0.3), 0 1px 3px 1px rgba(60, 64, 67, 0.15);\n",
              "    fill: var(--button-hover-fill-color);\n",
              "  }\n",
              "\n",
              "  .colab-df-quickchart-complete:disabled,\n",
              "  .colab-df-quickchart-complete:disabled:hover {\n",
              "    background-color: var(--disabled-bg-color);\n",
              "    fill: var(--disabled-fill-color);\n",
              "    box-shadow: none;\n",
              "  }\n",
              "\n",
              "  .colab-df-spinner {\n",
              "    border: 2px solid var(--fill-color);\n",
              "    border-color: transparent;\n",
              "    border-bottom-color: var(--fill-color);\n",
              "    animation:\n",
              "      spin 1s steps(1) infinite;\n",
              "  }\n",
              "\n",
              "  @keyframes spin {\n",
              "    0% {\n",
              "      border-color: transparent;\n",
              "      border-bottom-color: var(--fill-color);\n",
              "      border-left-color: var(--fill-color);\n",
              "    }\n",
              "    20% {\n",
              "      border-color: transparent;\n",
              "      border-left-color: var(--fill-color);\n",
              "      border-top-color: var(--fill-color);\n",
              "    }\n",
              "    30% {\n",
              "      border-color: transparent;\n",
              "      border-left-color: var(--fill-color);\n",
              "      border-top-color: var(--fill-color);\n",
              "      border-right-color: var(--fill-color);\n",
              "    }\n",
              "    40% {\n",
              "      border-color: transparent;\n",
              "      border-right-color: var(--fill-color);\n",
              "      border-top-color: var(--fill-color);\n",
              "    }\n",
              "    60% {\n",
              "      border-color: transparent;\n",
              "      border-right-color: var(--fill-color);\n",
              "    }\n",
              "    80% {\n",
              "      border-color: transparent;\n",
              "      border-right-color: var(--fill-color);\n",
              "      border-bottom-color: var(--fill-color);\n",
              "    }\n",
              "    90% {\n",
              "      border-color: transparent;\n",
              "      border-bottom-color: var(--fill-color);\n",
              "    }\n",
              "  }\n",
              "</style>\n",
              "\n",
              "      <script>\n",
              "        async function quickchart(key) {\n",
              "          const quickchartButtonEl =\n",
              "            document.querySelector('#' + key + ' button');\n",
              "          quickchartButtonEl.disabled = true;  // To prevent multiple clicks.\n",
              "          quickchartButtonEl.classList.add('colab-df-spinner');\n",
              "          try {\n",
              "            const charts = await google.colab.kernel.invokeFunction(\n",
              "                'suggestCharts', [key], {});\n",
              "          } catch (error) {\n",
              "            console.error('Error during call to suggestCharts:', error);\n",
              "          }\n",
              "          quickchartButtonEl.classList.remove('colab-df-spinner');\n",
              "          quickchartButtonEl.classList.add('colab-df-quickchart-complete');\n",
              "        }\n",
              "        (() => {\n",
              "          let quickchartButtonEl =\n",
              "            document.querySelector('#df-6f865e6d-a26a-4a72-9e2e-9a2a55bf8f58 button');\n",
              "          quickchartButtonEl.style.display =\n",
              "            google.colab.kernel.accessAllowed ? 'block' : 'none';\n",
              "        })();\n",
              "      </script>\n",
              "    </div>\n",
              "\n",
              "    </div>\n",
              "  </div>\n"
            ],
            "application/vnd.google.colaboratory.intrinsic+json": {
              "type": "dataframe"
            }
          },
          "metadata": {}
        },
        {
          "output_type": "stream",
          "name": "stdout",
          "text": [
            "\n",
            "--- Sender Type Distribution for High RSF 'ArRC' Transactions ---\n"
          ]
        },
        {
          "output_type": "display_data",
          "data": {
            "text/plain": [
              "sType\n",
              "EU    339\n",
              "Name: count, dtype: int64"
            ],
            "text/html": [
              "<div>\n",
              "<style scoped>\n",
              "    .dataframe tbody tr th:only-of-type {\n",
              "        vertical-align: middle;\n",
              "    }\n",
              "\n",
              "    .dataframe tbody tr th {\n",
              "        vertical-align: top;\n",
              "    }\n",
              "\n",
              "    .dataframe thead th {\n",
              "        text-align: right;\n",
              "    }\n",
              "</style>\n",
              "<table border=\"1\" class=\"dataframe\">\n",
              "  <thead>\n",
              "    <tr style=\"text-align: right;\">\n",
              "      <th></th>\n",
              "      <th>count</th>\n",
              "    </tr>\n",
              "    <tr>\n",
              "      <th>sType</th>\n",
              "      <th></th>\n",
              "    </tr>\n",
              "  </thead>\n",
              "  <tbody>\n",
              "    <tr>\n",
              "      <th>EU</th>\n",
              "      <td>339</td>\n",
              "    </tr>\n",
              "  </tbody>\n",
              "</table>\n",
              "</div><br><label><b>dtype:</b> int64</label>"
            ]
          },
          "metadata": {}
        },
        {
          "output_type": "stream",
          "name": "stdout",
          "text": [
            "\n",
            "--- Receiver Type Distribution for High RSF 'ArRC' Transactions ---\n"
          ]
        },
        {
          "output_type": "display_data",
          "data": {
            "text/plain": [
              "rType\n",
              "operator    339\n",
              "Name: count, dtype: int64"
            ],
            "text/html": [
              "<div>\n",
              "<style scoped>\n",
              "    .dataframe tbody tr th:only-of-type {\n",
              "        vertical-align: middle;\n",
              "    }\n",
              "\n",
              "    .dataframe tbody tr th {\n",
              "        vertical-align: top;\n",
              "    }\n",
              "\n",
              "    .dataframe thead th {\n",
              "        text-align: right;\n",
              "    }\n",
              "</style>\n",
              "<table border=\"1\" class=\"dataframe\">\n",
              "  <thead>\n",
              "    <tr style=\"text-align: right;\">\n",
              "      <th></th>\n",
              "      <th>count</th>\n",
              "    </tr>\n",
              "    <tr>\n",
              "      <th>rType</th>\n",
              "      <th></th>\n",
              "    </tr>\n",
              "  </thead>\n",
              "  <tbody>\n",
              "    <tr>\n",
              "      <th>operator</th>\n",
              "      <td>339</td>\n",
              "    </tr>\n",
              "  </tbody>\n",
              "</table>\n",
              "</div><br><label><b>dtype:</b> int64</label>"
            ]
          },
          "metadata": {}
        },
        {
          "output_type": "stream",
          "name": "stdout",
          "text": [
            "\n",
            "--- Descriptive Statistics for TranAmount in High RSF 'ArRC' Transactions ---\n"
          ]
        },
        {
          "output_type": "display_data",
          "data": {
            "text/plain": [
              "count      339.000000\n",
              "mean      2194.249233\n",
              "std       1891.734900\n",
              "min          1.020000\n",
              "25%        978.775000\n",
              "50%       1920.330000\n",
              "75%       3158.850000\n",
              "max      17010.860000\n",
              "Name: TranAmount, dtype: float64"
            ],
            "text/html": [
              "<div>\n",
              "<style scoped>\n",
              "    .dataframe tbody tr th:only-of-type {\n",
              "        vertical-align: middle;\n",
              "    }\n",
              "\n",
              "    .dataframe tbody tr th {\n",
              "        vertical-align: top;\n",
              "    }\n",
              "\n",
              "    .dataframe thead th {\n",
              "        text-align: right;\n",
              "    }\n",
              "</style>\n",
              "<table border=\"1\" class=\"dataframe\">\n",
              "  <thead>\n",
              "    <tr style=\"text-align: right;\">\n",
              "      <th></th>\n",
              "      <th>TranAmount</th>\n",
              "    </tr>\n",
              "  </thead>\n",
              "  <tbody>\n",
              "    <tr>\n",
              "      <th>count</th>\n",
              "      <td>339.000000</td>\n",
              "    </tr>\n",
              "    <tr>\n",
              "      <th>mean</th>\n",
              "      <td>2194.249233</td>\n",
              "    </tr>\n",
              "    <tr>\n",
              "      <th>std</th>\n",
              "      <td>1891.734900</td>\n",
              "    </tr>\n",
              "    <tr>\n",
              "      <th>min</th>\n",
              "      <td>1.020000</td>\n",
              "    </tr>\n",
              "    <tr>\n",
              "      <th>25%</th>\n",
              "      <td>978.775000</td>\n",
              "    </tr>\n",
              "    <tr>\n",
              "      <th>50%</th>\n",
              "      <td>1920.330000</td>\n",
              "    </tr>\n",
              "    <tr>\n",
              "      <th>75%</th>\n",
              "      <td>3158.850000</td>\n",
              "    </tr>\n",
              "    <tr>\n",
              "      <th>max</th>\n",
              "      <td>17010.860000</td>\n",
              "    </tr>\n",
              "  </tbody>\n",
              "</table>\n",
              "</div><br><label><b>dtype:</b> float64</label>"
            ]
          },
          "metadata": {}
        },
        {
          "output_type": "stream",
          "name": "stdout",
          "text": [
            "\n",
            "Mean TranAmount for High RSF 'ArRC' Transactions: 2194.25\n",
            "Median TranAmount for High RSF 'ArRC' Transactions: 1920.33\n"
          ]
        }
      ]
    },
    {
      "cell_type": "markdown",
      "metadata": {
        "id": "6f2c287d"
      },
      "source": [
        "## Summary:\n",
        "\n",
        "### Data Analysis Key Findings\n",
        "\n",
        "*   There are 339 transactions of type 'ArRC' within the high RSF group.\n",
        "*   For these high RSF 'ArRC' transactions, the sender type is always 'EU', and the receiver type is always 'operator'.\n",
        "*   The transaction amounts for high RSF 'ArRC' transactions range from \\$1.02 to \\$17010.86.\n",
        "*   The mean transaction amount for high RSF 'ArRC' transactions is approximately \\$2194.25, with a median of \\$1920.33.\n",
        "\n",
        "### Insights or Next Steps\n",
        "\n",
        "*   Given the consistent sender ('EU') and receiver ('operator') types for high RSF 'ArRC' transactions, further investigation into the specific nature of this transaction type and the involved parties is warranted.\n",
        "*   Analyze the distribution of `TranAmount` for high RSF 'ArRC' transactions more deeply (e.g., through visualizations or percentiles) to identify potential patterns or thresholds for suspicious activity.\n"
      ]
    }
  ]
}